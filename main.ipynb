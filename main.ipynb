{
 "cells": [
  {
   "cell_type": "code",
   "execution_count": null,
   "metadata": {
    "colab": {
     "base_uri": "https://localhost:8080/"
    },
    "execution": {
     "iopub.execute_input": "2025-04-27T09:43:17.938560Z",
     "iopub.status.busy": "2025-04-27T09:43:17.937846Z",
     "iopub.status.idle": "2025-04-27T09:43:17.951446Z",
     "shell.execute_reply": "2025-04-27T09:43:17.950906Z",
     "shell.execute_reply.started": "2025-04-27T09:43:17.938532Z"
    },
    "id": "dJ4UEmHJbe5W",
    "outputId": "370da8f9-ee37-411a-b0b9-7cc2f5e99ed0",
    "trusted": true
   },
   "outputs": [
    {
     "name": "stdout",
     "output_type": "stream",
     "text": [
      "/kaggle/input/english-hindi-dataset/Dataset_English_Hindi.csv\n"
     ]
    }
   ],
   "source": [
    "# from google.colab import drive\n",
    "# drive.mount('/content/drive')\n",
    "import os\n",
    "for dirname, _, filenames in os.walk('/kaggle/input'):\n",
    "    for filename in filenames:\n",
    "        print(os.path.join(dirname, filename))"
   ]
  },
  {
   "cell_type": "code",
   "execution_count": null,
   "metadata": {
    "colab": {
     "base_uri": "https://localhost:8080/"
    },
    "execution": {
     "iopub.execute_input": "2025-04-27T09:43:19.794497Z",
     "iopub.status.busy": "2025-04-27T09:43:19.793991Z",
     "iopub.status.idle": "2025-04-27T09:43:40.498084Z",
     "shell.execute_reply": "2025-04-27T09:43:40.497367Z",
     "shell.execute_reply.started": "2025-04-27T09:43:19.794477Z"
    },
    "id": "IK6JOVufNZt7",
    "outputId": "21b8c148-171d-458d-de65-041c9812d137",
    "trusted": true
   },
   "outputs": [],
   "source": [
    "!pip install indic-nlp-library\n",
    "!pip install contractions\n",
    "!python -m spacy download en_core_web_sm"
   ]
  },
  {
   "cell_type": "code",
   "execution_count": null,
   "metadata": {
    "execution": {
     "iopub.execute_input": "2025-04-27T09:43:40.499817Z",
     "iopub.status.busy": "2025-04-27T09:43:40.499455Z",
     "iopub.status.idle": "2025-04-27T09:43:44.035886Z",
     "shell.execute_reply": "2025-04-27T09:43:44.035147Z",
     "shell.execute_reply.started": "2025-04-27T09:43:40.499796Z"
    },
    "id": "joXnGXM28b4x",
    "trusted": true
   },
   "outputs": [],
   "source": [
    "import pandas as pd\n",
    "import numpy as np\n",
    "import re\n",
    "from indicnlp.tokenize import indic_tokenize\n",
    "import spacy\n",
    "import random\n",
    "import contractions"
   ]
  },
  {
   "cell_type": "code",
   "execution_count": 4,
   "metadata": {
    "execution": {
     "iopub.execute_input": "2025-04-27T09:43:44.037062Z",
     "iopub.status.busy": "2025-04-27T09:43:44.036693Z",
     "iopub.status.idle": "2025-04-27T09:43:44.713508Z",
     "shell.execute_reply": "2025-04-27T09:43:44.712723Z",
     "shell.execute_reply.started": "2025-04-27T09:43:44.037043Z"
    },
    "id": "UnsoActcNdHP",
    "trusted": true
   },
   "outputs": [],
   "source": [
    "nlp = spacy.load(\"en_core_web_sm\")"
   ]
  },
  {
   "cell_type": "code",
   "execution_count": 5,
   "metadata": {
    "execution": {
     "iopub.execute_input": "2025-04-27T09:43:44.715144Z",
     "iopub.status.busy": "2025-04-27T09:43:44.714877Z",
     "iopub.status.idle": "2025-04-27T09:43:44.718665Z",
     "shell.execute_reply": "2025-04-27T09:43:44.717984Z",
     "shell.execute_reply.started": "2025-04-27T09:43:44.715124Z"
    },
    "id": "kUlh-DllBSS_",
    "trusted": true
   },
   "outputs": [],
   "source": [
    "filePath=\"/kaggle/input/english-hindi-dataset/Dataset_English_Hindi.csv\""
   ]
  },
  {
   "cell_type": "code",
   "execution_count": 6,
   "metadata": {
    "execution": {
     "iopub.execute_input": "2025-04-27T09:43:44.719934Z",
     "iopub.status.busy": "2025-04-27T09:43:44.719443Z",
     "iopub.status.idle": "2025-04-27T09:43:45.851480Z",
     "shell.execute_reply": "2025-04-27T09:43:45.850917Z",
     "shell.execute_reply.started": "2025-04-27T09:43:44.719907Z"
    },
    "id": "ACVLBxKMBJsz",
    "trusted": true
   },
   "outputs": [],
   "source": [
    "corpus=pd.read_csv(filePath)"
   ]
  },
  {
   "cell_type": "code",
   "execution_count": 7,
   "metadata": {
    "execution": {
     "iopub.execute_input": "2025-04-27T09:43:45.852378Z",
     "iopub.status.busy": "2025-04-27T09:43:45.852181Z",
     "iopub.status.idle": "2025-04-27T09:43:45.855817Z",
     "shell.execute_reply": "2025-04-27T09:43:45.855185Z",
     "shell.execute_reply.started": "2025-04-27T09:43:45.852362Z"
    },
    "id": "D314OUaWvhtM",
    "trusted": true
   },
   "outputs": [],
   "source": [
    "# pd.options.display.max_colwidth=100\n",
    "pd.set_option('display.max_colwidth', None)"
   ]
  },
  {
   "cell_type": "markdown",
   "metadata": {
    "id": "nXL-CUN2rBH1"
   },
   "source": [
    "# Text Preprocesssing"
   ]
  },
  {
   "cell_type": "code",
   "execution_count": 8,
   "metadata": {
    "colab": {
     "base_uri": "https://localhost:8080/",
     "height": 293
    },
    "execution": {
     "iopub.execute_input": "2025-04-27T09:43:47.687763Z",
     "iopub.status.busy": "2025-04-27T09:43:47.687468Z",
     "iopub.status.idle": "2025-04-27T09:43:47.708206Z",
     "shell.execute_reply": "2025-04-27T09:43:47.707584Z",
     "shell.execute_reply.started": "2025-04-27T09:43:47.687737Z"
    },
    "id": "kCEtvAAqBJpZ",
    "outputId": "7ba76d5c-000c-4202-e050-1bbb399db12b",
    "trusted": true
   },
   "outputs": [
    {
     "data": {
      "text/html": [
       "<div>\n",
       "<style scoped>\n",
       "    .dataframe tbody tr th:only-of-type {\n",
       "        vertical-align: middle;\n",
       "    }\n",
       "\n",
       "    .dataframe tbody tr th {\n",
       "        vertical-align: top;\n",
       "    }\n",
       "\n",
       "    .dataframe thead th {\n",
       "        text-align: right;\n",
       "    }\n",
       "</style>\n",
       "<table border=\"1\" class=\"dataframe\">\n",
       "  <thead>\n",
       "    <tr style=\"text-align: right;\">\n",
       "      <th></th>\n",
       "      <th>English</th>\n",
       "      <th>Hindi</th>\n",
       "    </tr>\n",
       "  </thead>\n",
       "  <tbody>\n",
       "    <tr>\n",
       "      <th>0</th>\n",
       "      <td>Help!</td>\n",
       "      <td>बचाओ!</td>\n",
       "    </tr>\n",
       "    <tr>\n",
       "      <th>1</th>\n",
       "      <td>Jump.</td>\n",
       "      <td>उछलो.</td>\n",
       "    </tr>\n",
       "    <tr>\n",
       "      <th>2</th>\n",
       "      <td>Jump.</td>\n",
       "      <td>कूदो.</td>\n",
       "    </tr>\n",
       "    <tr>\n",
       "      <th>3</th>\n",
       "      <td>Jump.</td>\n",
       "      <td>छलांग.</td>\n",
       "    </tr>\n",
       "    <tr>\n",
       "      <th>4</th>\n",
       "      <td>Hello!</td>\n",
       "      <td>नमस्ते।</td>\n",
       "    </tr>\n",
       "    <tr>\n",
       "      <th>5</th>\n",
       "      <td>Hello!</td>\n",
       "      <td>नमस्कार।</td>\n",
       "    </tr>\n",
       "    <tr>\n",
       "      <th>6</th>\n",
       "      <td>Cheers!</td>\n",
       "      <td>वाह-वाह!</td>\n",
       "    </tr>\n",
       "    <tr>\n",
       "      <th>7</th>\n",
       "      <td>Cheers!</td>\n",
       "      <td>चियर्स!</td>\n",
       "    </tr>\n",
       "    <tr>\n",
       "      <th>8</th>\n",
       "      <td>Got it?</td>\n",
       "      <td>समझे कि नहीं?</td>\n",
       "    </tr>\n",
       "    <tr>\n",
       "      <th>9</th>\n",
       "      <td>I'm OK.</td>\n",
       "      <td>मैं ठीक हूँ।</td>\n",
       "    </tr>\n",
       "  </tbody>\n",
       "</table>\n",
       "</div>"
      ],
      "text/plain": [
       "   English          Hindi\n",
       "0    Help!          बचाओ!\n",
       "1    Jump.          उछलो.\n",
       "2    Jump.          कूदो.\n",
       "3    Jump.         छलांग.\n",
       "4   Hello!        नमस्ते।\n",
       "5   Hello!       नमस्कार।\n",
       "6  Cheers!       वाह-वाह!\n",
       "7  Cheers!        चियर्स!\n",
       "8  Got it?  समझे कि नहीं?\n",
       "9  I'm OK.   मैं ठीक हूँ।"
      ]
     },
     "execution_count": 8,
     "metadata": {},
     "output_type": "execute_result"
    }
   ],
   "source": [
    "corpus.head(10)"
   ]
  },
  {
   "cell_type": "code",
   "execution_count": 9,
   "metadata": {
    "colab": {
     "base_uri": "https://localhost:8080/"
    },
    "execution": {
     "iopub.execute_input": "2025-04-27T09:43:53.985922Z",
     "iopub.status.busy": "2025-04-27T09:43:53.985212Z",
     "iopub.status.idle": "2025-04-27T09:43:54.027768Z",
     "shell.execute_reply": "2025-04-27T09:43:54.027007Z",
     "shell.execute_reply.started": "2025-04-27T09:43:53.985896Z"
    },
    "id": "NU--v6jipJxf",
    "outputId": "6d154ac7-829e-41ae-9781-03fa0b30a7c4",
    "trusted": true
   },
   "outputs": [
    {
     "name": "stdout",
     "output_type": "stream",
     "text": [
      "<class 'pandas.core.frame.DataFrame'>\n",
      "RangeIndex: 130476 entries, 0 to 130475\n",
      "Data columns (total 2 columns):\n",
      " #   Column   Non-Null Count   Dtype \n",
      "---  ------   --------------   ----- \n",
      " 0   English  130474 non-null  object\n",
      " 1   Hindi    130164 non-null  object\n",
      "dtypes: object(2)\n",
      "memory usage: 2.0+ MB\n"
     ]
    }
   ],
   "source": [
    "corpus.info()"
   ]
  },
  {
   "cell_type": "code",
   "execution_count": 10,
   "metadata": {
    "execution": {
     "iopub.execute_input": "2025-04-27T09:43:56.968789Z",
     "iopub.status.busy": "2025-04-27T09:43:56.968520Z",
     "iopub.status.idle": "2025-04-27T09:43:57.234000Z",
     "shell.execute_reply": "2025-04-27T09:43:57.233146Z",
     "shell.execute_reply.started": "2025-04-27T09:43:56.968770Z"
    },
    "trusted": true
   },
   "outputs": [],
   "source": [
    "corpus['English'] = corpus['English'].str.lower().str.strip()\n",
    "corpus['Hindi'] = corpus['Hindi'].str.lower().str.strip()"
   ]
  },
  {
   "cell_type": "code",
   "execution_count": 11,
   "metadata": {
    "colab": {
     "base_uri": "https://localhost:8080/",
     "height": 147
    },
    "execution": {
     "iopub.execute_input": "2025-04-27T09:43:59.697136Z",
     "iopub.status.busy": "2025-04-27T09:43:59.696841Z",
     "iopub.status.idle": "2025-04-27T09:43:59.725497Z",
     "shell.execute_reply": "2025-04-27T09:43:59.724796Z",
     "shell.execute_reply.started": "2025-04-27T09:43:59.697115Z"
    },
    "id": "4rvcg7tGBJZG",
    "outputId": "3f500a74-4eb6-4641-9ae9-5ecb4cbc55a8",
    "trusted": true
   },
   "outputs": [
    {
     "data": {
      "text/plain": [
       "English      2\n",
       "Hindi      312\n",
       "dtype: int64"
      ]
     },
     "execution_count": 11,
     "metadata": {},
     "output_type": "execute_result"
    }
   ],
   "source": [
    "corpus.isnull().sum()"
   ]
  },
  {
   "cell_type": "code",
   "execution_count": 12,
   "metadata": {
    "colab": {
     "base_uri": "https://localhost:8080/",
     "height": 441
    },
    "execution": {
     "iopub.execute_input": "2025-04-27T09:44:02.437001Z",
     "iopub.status.busy": "2025-04-27T09:44:02.436507Z",
     "iopub.status.idle": "2025-04-27T09:44:02.495187Z",
     "shell.execute_reply": "2025-04-27T09:44:02.494569Z",
     "shell.execute_reply.started": "2025-04-27T09:44:02.436975Z"
    },
    "id": "w31xDRmWF5vy",
    "outputId": "0e8e5c32-b9a6-4a81-e3b6-d8130abb04ec",
    "trusted": true
   },
   "outputs": [],
   "source": [
    "corpus.dropna(inplace=True)\n",
    "corpus=corpus.reset_index(drop=True)"
   ]
  },
  {
   "cell_type": "code",
   "execution_count": 13,
   "metadata": {
    "colab": {
     "base_uri": "https://localhost:8080/"
    },
    "execution": {
     "iopub.execute_input": "2025-04-27T09:44:06.072805Z",
     "iopub.status.busy": "2025-04-27T09:44:06.072540Z",
     "iopub.status.idle": "2025-04-27T09:44:06.272317Z",
     "shell.execute_reply": "2025-04-27T09:44:06.271720Z",
     "shell.execute_reply.started": "2025-04-27T09:44:06.072786Z"
    },
    "id": "gZZMVtA1NFCS",
    "outputId": "189ce143-47c1-4b8c-b8fb-c2e4569fb7f0",
    "trusted": true
   },
   "outputs": [
    {
     "data": {
      "text/plain": [
       "3342"
      ]
     },
     "execution_count": 13,
     "metadata": {},
     "output_type": "execute_result"
    }
   ],
   "source": [
    "corpus.duplicated().sum()"
   ]
  },
  {
   "cell_type": "code",
   "execution_count": 15,
   "metadata": {
    "execution": {
     "iopub.execute_input": "2025-04-27T09:44:14.401665Z",
     "iopub.status.busy": "2025-04-27T09:44:14.401396Z",
     "iopub.status.idle": "2025-04-27T09:44:14.783500Z",
     "shell.execute_reply": "2025-04-27T09:44:14.782972Z",
     "shell.execute_reply.started": "2025-04-27T09:44:14.401643Z"
    },
    "id": "9wXDpF2uNW0A",
    "trusted": true
   },
   "outputs": [],
   "source": [
    "def remove_url(text):\n",
    "    pattern = re.compile(r'https?://\\S+|www\\.\\S+')\n",
    "    return pattern.sub(r'',text)\n",
    "\n",
    "corpus['English'] = corpus['English'].apply(remove_url)\n",
    "corpus['Hindi'] = corpus['Hindi'].apply(remove_url)"
   ]
  },
  {
   "cell_type": "code",
   "execution_count": null,
   "metadata": {
    "execution": {
     "iopub.execute_input": "2025-04-27T09:44:17.690987Z",
     "iopub.status.busy": "2025-04-27T09:44:17.690689Z",
     "iopub.status.idle": "2025-04-27T09:44:17.788378Z",
     "shell.execute_reply": "2025-04-27T09:44:17.787819Z",
     "shell.execute_reply.started": "2025-04-27T09:44:17.690965Z"
    },
    "id": "0iqXmFyYNYOY",
    "trusted": true
   },
   "outputs": [],
   "source": [
    "def remove_html_tags(text):\n",
    "    pattern =r'<.*?>'\n",
    "    text = re.sub(pattern,'',text)\n",
    "    return text\n",
    "corpus['English']=corpus['English'].apply(remove_html_tags)\n",
    "# remove_html_tags(\"hello are> , <your there?\")"
   ]
  },
  {
   "cell_type": "code",
   "execution_count": 17,
   "metadata": {
    "execution": {
     "iopub.execute_input": "2025-04-27T09:44:19.830445Z",
     "iopub.status.busy": "2025-04-27T09:44:19.830182Z",
     "iopub.status.idle": "2025-04-27T09:44:20.529165Z",
     "shell.execute_reply": "2025-04-27T09:44:20.528693Z",
     "shell.execute_reply.started": "2025-04-27T09:44:19.830424Z"
    },
    "id": "EeRdLDHwy_8h",
    "trusted": true
   },
   "outputs": [],
   "source": [
    "def expand_contractions(text):\n",
    "    expanded_text = contractions.fix(text)\n",
    "    return expanded_text\n",
    "\n",
    "corpus['English'] = corpus['English'].apply(expand_contractions)\n"
   ]
  },
  {
   "cell_type": "code",
   "execution_count": null,
   "metadata": {
    "execution": {
     "iopub.execute_input": "2025-04-27T09:44:23.125712Z",
     "iopub.status.busy": "2025-04-27T09:44:23.125420Z",
     "iopub.status.idle": "2025-04-27T09:44:25.329576Z",
     "shell.execute_reply": "2025-04-27T09:44:25.329008Z",
     "shell.execute_reply.started": "2025-04-27T09:44:23.125680Z"
    },
    "id": "_C9WUlkatZRI",
    "trusted": true
   },
   "outputs": [],
   "source": [
    "def preprocess_text(text, lang='eng'):\n",
    "    if not isinstance(text, str):\n",
    "        return text\n",
    "\n",
    "    if lang == 'eng':\n",
    "        pattern = re.compile(r'[^a-zA-Z0-9\\s]')\n",
    "    elif lang == 'hin':\n",
    "        pattern = re.compile(r'[^\\u0900-\\u097F0-9\\s]')\n",
    "    else:\n",
    "        raise ValueError(\"Unsupported Language, Supported languages are 'eng' and 'hin'\")\n",
    "    text = pattern.sub('', text)\n",
    "    text = re.sub(r'\\s+', ' ', text).strip()\n",
    "    return text\n",
    "\n",
    "corpus['English'] = corpus['English'].apply(lambda x: preprocess_text(x, lang='eng'))\n",
    "corpus['Hindi'] = corpus['Hindi'].apply(lambda x: preprocess_text(x, lang='hin'))"
   ]
  },
  {
   "cell_type": "code",
   "execution_count": 19,
   "metadata": {
    "colab": {
     "base_uri": "https://localhost:8080/"
    },
    "execution": {
     "iopub.execute_input": "2025-04-27T09:44:29.298540Z",
     "iopub.status.busy": "2025-04-27T09:44:29.298246Z",
     "iopub.status.idle": "2025-04-27T09:44:29.502790Z",
     "shell.execute_reply": "2025-04-27T09:44:29.502065Z",
     "shell.execute_reply.started": "2025-04-27T09:44:29.298518Z"
    },
    "id": "DIACHnMuP3Ba",
    "outputId": "6084fb13-224d-48df-f82c-4736f10b5f78",
    "trusted": true
   },
   "outputs": [
    {
     "data": {
      "text/plain": [
       "3854"
      ]
     },
     "execution_count": 19,
     "metadata": {},
     "output_type": "execute_result"
    }
   ],
   "source": [
    "# duplicates = corpus[corpus.duplicated()]\n",
    "# print(duplicates.head(10))\n",
    "corpus.duplicated().sum()"
   ]
  },
  {
   "cell_type": "code",
   "execution_count": 20,
   "metadata": {
    "execution": {
     "iopub.execute_input": "2025-04-27T09:44:34.271769Z",
     "iopub.status.busy": "2025-04-27T09:44:34.271487Z",
     "iopub.status.idle": "2025-04-27T09:44:34.424524Z",
     "shell.execute_reply": "2025-04-27T09:44:34.423995Z",
     "shell.execute_reply.started": "2025-04-27T09:44:34.271749Z"
    },
    "id": "5yhfsisWL_Jt",
    "trusted": true
   },
   "outputs": [],
   "source": [
    "# corpus.to_csv(\"cleanedCorpus.csv\",index=False)\n",
    "corpus.drop_duplicates(inplace=True)\n",
    "corpus=corpus.reset_index(drop=True)"
   ]
  },
  {
   "cell_type": "code",
   "execution_count": 21,
   "metadata": {
    "execution": {
     "iopub.execute_input": "2025-04-27T09:44:38.877091Z",
     "iopub.status.busy": "2025-04-27T09:44:38.876252Z",
     "iopub.status.idle": "2025-04-27T09:44:38.978318Z",
     "shell.execute_reply": "2025-04-27T09:44:38.977545Z",
     "shell.execute_reply.started": "2025-04-27T09:44:38.877064Z"
    },
    "trusted": true
   },
   "outputs": [
    {
     "data": {
      "text/plain": [
       "Index([  3179,   4315,   4404,   4943,   5031,   5606,   6085,   6295,   6416,\n",
       "         6615,\n",
       "       ...\n",
       "       124467, 124743, 124844, 124955, 124996, 125000, 125351, 125805, 126027,\n",
       "       126148],\n",
       "      dtype='int64', length=558)"
      ]
     },
     "execution_count": 21,
     "metadata": {},
     "output_type": "execute_result"
    }
   ],
   "source": [
    "#checking for spaces\n",
    "rows_with_spaces = corpus.apply(lambda x: x.str.strip() == '').any(axis=1)\n",
    "rows_with_spaces = corpus[rows_with_spaces].index\n",
    "rows_with_spaces"
   ]
  },
  {
   "cell_type": "code",
   "execution_count": 22,
   "metadata": {
    "execution": {
     "iopub.execute_input": "2025-04-27T09:44:59.398595Z",
     "iopub.status.busy": "2025-04-27T09:44:59.397828Z",
     "iopub.status.idle": "2025-04-27T09:44:59.493211Z",
     "shell.execute_reply": "2025-04-27T09:44:59.492423Z",
     "shell.execute_reply.started": "2025-04-27T09:44:59.398569Z"
    },
    "trusted": true
   },
   "outputs": [],
   "source": [
    "# removing rows\n",
    "corpus = corpus[~corpus.apply(lambda x: x.str.strip() == '').any(axis=1)].reset_index(drop=True)"
   ]
  },
  {
   "cell_type": "markdown",
   "metadata": {
    "id": "228rXLogwgY4"
   },
   "source": [
    "# Tokenization"
   ]
  },
  {
   "cell_type": "code",
   "execution_count": 23,
   "metadata": {
    "execution": {
     "iopub.execute_input": "2025-04-27T09:45:03.783756Z",
     "iopub.status.busy": "2025-04-27T09:45:03.783230Z",
     "iopub.status.idle": "2025-04-27T09:45:03.787363Z",
     "shell.execute_reply": "2025-04-27T09:45:03.786484Z",
     "shell.execute_reply.started": "2025-04-27T09:45:03.783730Z"
    },
    "id": "JEn32L_kk0aa",
    "trusted": true
   },
   "outputs": [],
   "source": [
    "def tokenizerEN(text):\n",
    "  tokens= [tok.text.lower() for tok in nlp.tokenizer(text)]\n",
    "  return tokens"
   ]
  },
  {
   "cell_type": "code",
   "execution_count": null,
   "metadata": {
    "execution": {
     "iopub.execute_input": "2025-04-27T09:45:09.133273Z",
     "iopub.status.busy": "2025-04-27T09:45:09.132933Z",
     "iopub.status.idle": "2025-04-27T09:45:09.139520Z",
     "shell.execute_reply": "2025-04-27T09:45:09.138673Z",
     "shell.execute_reply.started": "2025-04-27T09:45:09.133251Z"
    },
    "trusted": true
   },
   "outputs": [
    {
     "data": {
      "text/plain": [
       "(125750, 2)"
      ]
     },
     "execution_count": 24,
     "metadata": {},
     "output_type": "execute_result"
    }
   ],
   "source": [
    "corpus.shape"
   ]
  },
  {
   "cell_type": "code",
   "execution_count": null,
   "metadata": {
    "execution": {
     "iopub.execute_input": "2025-04-27T09:45:12.647365Z",
     "iopub.status.busy": "2025-04-27T09:45:12.646590Z",
     "iopub.status.idle": "2025-04-27T09:45:22.453955Z",
     "shell.execute_reply": "2025-04-27T09:45:22.453418Z",
     "shell.execute_reply.started": "2025-04-27T09:45:12.647338Z"
    },
    "id": "ihPfsoefOALS",
    "trusted": true
   },
   "outputs": [],
   "source": [
    "# Removing Sentences whose Length of tokens is greater than 25\n",
    "\n",
    "MAX_SEQ_LEN = 25\n",
    "\n",
    "def filter_long_rows(df, max_len):\n",
    "    def valid(row):\n",
    "        return len(tokenizerEN(row['English'])) < max_len and \\\n",
    "               len(indic_tokenize.trivial_tokenize(row['Hindi'])) < max_len\n",
    "    return df[df.apply(valid, axis=1)].reset_index(drop=True)\n",
    "\n",
    "corpus = filter_long_rows(corpus, MAX_SEQ_LEN)"
   ]
  },
  {
   "cell_type": "code",
   "execution_count": 26,
   "metadata": {
    "execution": {
     "iopub.execute_input": "2025-04-27T09:45:22.455311Z",
     "iopub.status.busy": "2025-04-27T09:45:22.455083Z",
     "iopub.status.idle": "2025-04-27T09:45:22.459839Z",
     "shell.execute_reply": "2025-04-27T09:45:22.459321Z",
     "shell.execute_reply.started": "2025-04-27T09:45:22.455290Z"
    },
    "trusted": true
   },
   "outputs": [
    {
     "data": {
      "text/plain": [
       "(97180, 2)"
      ]
     },
     "execution_count": 26,
     "metadata": {},
     "output_type": "execute_result"
    }
   ],
   "source": [
    "corpus.shape"
   ]
  },
  {
   "cell_type": "code",
   "execution_count": 27,
   "metadata": {
    "execution": {
     "iopub.execute_input": "2025-04-27T09:45:26.180221Z",
     "iopub.status.busy": "2025-04-27T09:45:26.179489Z",
     "iopub.status.idle": "2025-04-27T09:45:26.625020Z",
     "shell.execute_reply": "2025-04-27T09:45:26.624429Z",
     "shell.execute_reply.started": "2025-04-27T09:45:26.180195Z"
    },
    "trusted": true
   },
   "outputs": [],
   "source": [
    "corpus.to_csv(\"final.csv\")"
   ]
  },
  {
   "cell_type": "markdown",
   "metadata": {},
   "source": [
    "# Vocab Gen"
   ]
  },
  {
   "cell_type": "code",
   "execution_count": 28,
   "metadata": {
    "execution": {
     "iopub.execute_input": "2025-04-27T09:45:57.467428Z",
     "iopub.status.busy": "2025-04-27T09:45:57.467189Z",
     "iopub.status.idle": "2025-04-27T09:45:57.471387Z",
     "shell.execute_reply": "2025-04-27T09:45:57.470575Z",
     "shell.execute_reply.started": "2025-04-27T09:45:57.467411Z"
    },
    "id": "QqmEHojYIcM2",
    "trusted": true
   },
   "outputs": [],
   "source": [
    "PAD_TOKEN = 0\n",
    "UNK_TOKEN = 1\n",
    "SOS_TOKEN = 2\n",
    "EOS_TOKEN = 3"
   ]
  },
  {
   "cell_type": "code",
   "execution_count": 29,
   "metadata": {
    "execution": {
     "iopub.execute_input": "2025-04-27T09:46:00.197750Z",
     "iopub.status.busy": "2025-04-27T09:46:00.197080Z",
     "iopub.status.idle": "2025-04-27T09:46:00.201499Z",
     "shell.execute_reply": "2025-04-27T09:46:00.200779Z",
     "shell.execute_reply.started": "2025-04-27T09:46:00.197707Z"
    },
    "id": "bEaXy-SJx7bp",
    "trusted": true
   },
   "outputs": [],
   "source": [
    "eng_vocab={'<PAD>':PAD_TOKEN, '<UNK>':UNK_TOKEN,\"<SOS>\": SOS_TOKEN, \"<EOS>\": EOS_TOKEN,}\n",
    "hin_vocab={'<PAD>':PAD_TOKEN ,'<UNK>':UNK_TOKEN,\"<SOS>\": SOS_TOKEN, \"<EOS>\": EOS_TOKEN,}"
   ]
  },
  {
   "cell_type": "code",
   "execution_count": null,
   "metadata": {
    "execution": {
     "iopub.execute_input": "2025-04-27T09:46:02.554702Z",
     "iopub.status.busy": "2025-04-27T09:46:02.554136Z",
     "iopub.status.idle": "2025-04-27T09:46:02.558871Z",
     "shell.execute_reply": "2025-04-27T09:46:02.558062Z",
     "shell.execute_reply.started": "2025-04-27T09:46:02.554670Z"
    },
    "id": "_hntM_iP0TEY",
    "trusted": true
   },
   "outputs": [],
   "source": [
    "def vocabGen(row):\n",
    "  eng_token=tokenizerEN(row[\"English\"])\n",
    "  hin_token=indic_tokenize.trivial_tokenize_indic(row[\"Hindi\"])\n",
    "\n",
    "  for token in eng_token:\n",
    "    if token not in eng_vocab:\n",
    "      eng_vocab[token]=len(eng_vocab)\n",
    "  for token in hin_token:\n",
    "    if token not in hin_vocab:\n",
    "      hin_vocab[token]=len(hin_vocab)\n",
    "\n",
    "\n",
    "corpus.apply(vocabGen,axis=1)"
   ]
  },
  {
   "cell_type": "code",
   "execution_count": 32,
   "metadata": {
    "colab": {
     "base_uri": "https://localhost:8080/"
    },
    "execution": {
     "iopub.execute_input": "2025-04-27T09:46:12.361884Z",
     "iopub.status.busy": "2025-04-27T09:46:12.361321Z",
     "iopub.status.idle": "2025-04-27T09:46:12.366348Z",
     "shell.execute_reply": "2025-04-27T09:46:12.365700Z",
     "shell.execute_reply.started": "2025-04-27T09:46:12.361834Z"
    },
    "id": "cduxzVfG2Del",
    "outputId": "18e9a8f3-d5c8-497e-b34c-9aa78bcaccf5",
    "trusted": true
   },
   "outputs": [
    {
     "data": {
      "text/plain": [
       "(50494, 51555)"
      ]
     },
     "execution_count": 32,
     "metadata": {},
     "output_type": "execute_result"
    }
   ],
   "source": [
    "len(eng_vocab) ,len(hin_vocab)"
   ]
  },
  {
   "cell_type": "code",
   "execution_count": null,
   "metadata": {
    "execution": {
     "iopub.execute_input": "2025-04-27T09:46:14.709112Z",
     "iopub.status.busy": "2025-04-27T09:46:14.708526Z",
     "iopub.status.idle": "2025-04-27T09:46:14.713326Z",
     "shell.execute_reply": "2025-04-27T09:46:14.712507Z",
     "shell.execute_reply.started": "2025-04-27T09:46:14.709088Z"
    },
    "id": "V29qWUnM2nJ-",
    "trusted": true
   },
   "outputs": [],
   "source": [
    "def text2idx(sentence, lang=\"eng\",vocab=eng_vocab):\n",
    "  if lang==\"eng\":\n",
    "    sentence_token=tokenizerEN(sentence)\n",
    "  elif lang==\"hin\":\n",
    "    sentence_token=indic_tokenize.trivial_tokenize(sentence)\n",
    "  else:\n",
    "    raise ValueError(\"Unsupported Language, Supported languages are 'eng' and 'hin'\")\n",
    "  \n",
    "  indexed_text = []\n",
    "  for token in sentence_token:\n",
    "    if token in vocab:\n",
    "      indexed_text.append(vocab[token])\n",
    "    else:\n",
    "      indexed_text.append(UNK_TOKEN)\n",
    "  indexed_text.append(EOS_TOKEN)\n",
    "\n",
    "  return indexed_text\n"
   ]
  },
  {
   "cell_type": "code",
   "execution_count": 34,
   "metadata": {
    "colab": {
     "base_uri": "https://localhost:8080/"
    },
    "execution": {
     "iopub.execute_input": "2025-04-27T09:46:16.988103Z",
     "iopub.status.busy": "2025-04-27T09:46:16.987533Z",
     "iopub.status.idle": "2025-04-27T09:46:16.992773Z",
     "shell.execute_reply": "2025-04-27T09:46:16.992118Z",
     "shell.execute_reply.started": "2025-04-27T09:46:16.988078Z"
    },
    "id": "JUzUR-iLEeYG",
    "outputId": "0c4844f8-76a4-4d46-88ec-63c258ae58a1",
    "trusted": true
   },
   "outputs": [
    {
     "data": {
      "text/plain": [
       "[74, 424, 53, 1101, 353, 3]"
      ]
     },
     "execution_count": 34,
     "metadata": {},
     "output_type": "execute_result"
    }
   ],
   "source": [
    "text2idx(corpus.iloc[1234][\"English\"],\"eng\",eng_vocab)\n",
    "# corpus.iloc[1234]"
   ]
  },
  {
   "cell_type": "markdown",
   "metadata": {
    "id": "YYlfEWX3ENSw"
   },
   "source": [
    "## Dataset and DataLoader preparation"
   ]
  },
  {
   "cell_type": "code",
   "execution_count": 35,
   "metadata": {
    "execution": {
     "iopub.execute_input": "2025-04-27T09:46:20.749145Z",
     "iopub.status.busy": "2025-04-27T09:46:20.748590Z",
     "iopub.status.idle": "2025-04-27T09:46:20.752969Z",
     "shell.execute_reply": "2025-04-27T09:46:20.752224Z",
     "shell.execute_reply.started": "2025-04-27T09:46:20.749119Z"
    },
    "id": "LJuRRomsGofr",
    "trusted": true
   },
   "outputs": [],
   "source": [
    "import torch\n",
    "import torch.nn as nn\n",
    "from torch.utils.data import Dataset, DataLoader, random_split\n",
    "from torch.nn.utils.rnn import pad_sequence\n",
    "import torch.nn.functional as F\n",
    "import torch.optim as optim\n",
    "from torch.nn.utils.rnn import pad_packed_sequence,pack_padded_sequence"
   ]
  },
  {
   "cell_type": "code",
   "execution_count": 36,
   "metadata": {
    "colab": {
     "base_uri": "https://localhost:8080/"
    },
    "execution": {
     "iopub.execute_input": "2025-04-27T09:46:24.274647Z",
     "iopub.status.busy": "2025-04-27T09:46:24.274005Z",
     "iopub.status.idle": "2025-04-27T09:46:24.279051Z",
     "shell.execute_reply": "2025-04-27T09:46:24.278515Z",
     "shell.execute_reply.started": "2025-04-27T09:46:24.274621Z"
    },
    "id": "4FCBbwCbeO7K",
    "outputId": "ff58bca0-523f-4fa7-fda5-68aa45a4ca91",
    "trusted": true
   },
   "outputs": [
    {
     "data": {
      "text/plain": [
       "device(type='cuda')"
      ]
     },
     "execution_count": 36,
     "metadata": {},
     "output_type": "execute_result"
    }
   ],
   "source": [
    "device = torch.device(\"cuda\" if torch.cuda.is_available() else \"cpu\")\n",
    "device"
   ]
  },
  {
   "cell_type": "code",
   "execution_count": 37,
   "metadata": {
    "execution": {
     "iopub.execute_input": "2025-04-27T09:46:26.452808Z",
     "iopub.status.busy": "2025-04-27T09:46:26.452530Z",
     "iopub.status.idle": "2025-04-27T09:46:26.457947Z",
     "shell.execute_reply": "2025-04-27T09:46:26.457293Z",
     "shell.execute_reply.started": "2025-04-27T09:46:26.452789Z"
    },
    "id": "fLVqeujNEPk-",
    "trusted": true
   },
   "outputs": [],
   "source": [
    "class MTDataset(Dataset):\n",
    "\n",
    "  def __init__(self, df, eng_vocab,hin_vocab):\n",
    "    self.df = df\n",
    "    self.eng_vocab = eng_vocab\n",
    "    self.hin_vocab= hin_vocab\n",
    "\n",
    "  def __len__(self):\n",
    "    return self.df.shape[0]\n",
    "\n",
    "  def __getitem__(self, index):\n",
    "\n",
    "    numerical_eng = text2idx(self.df.iloc[index]['English'],\"eng\", self.eng_vocab)\n",
    "    numerical_hin = text2idx(self.df.iloc[index]['Hindi'], \"hin\", self.hin_vocab)\n",
    "    encoder_inputs =torch.tensor(numerical_eng[:-1],dtype=torch.long)\n",
    "    numerical_hin=torch.tensor(numerical_hin,dtype=torch.long)\n",
    "    decoder_targets=numerical_hin\n",
    "\n",
    "    return encoder_inputs.to(device), decoder_targets.to(device)"
   ]
  },
  {
   "cell_type": "code",
   "execution_count": 38,
   "metadata": {
    "execution": {
     "iopub.execute_input": "2025-04-27T09:46:28.883346Z",
     "iopub.status.busy": "2025-04-27T09:46:28.882648Z",
     "iopub.status.idle": "2025-04-27T09:46:28.887264Z",
     "shell.execute_reply": "2025-04-27T09:46:28.886465Z",
     "shell.execute_reply.started": "2025-04-27T09:46:28.883321Z"
    },
    "id": "32po1fRgTa_x",
    "trusted": true
   },
   "outputs": [],
   "source": [
    "def collate_fn(batch):\n",
    "    encoder_inputs, decoder_targets = zip(*batch)\n",
    "    input_lengths=torch.tensor([len(seq) for seq in encoder_inputs])\n",
    "    encoder_inputs = pad_sequence(encoder_inputs, batch_first=True, padding_value=0)\n",
    "    decoder_targets = pad_sequence(decoder_targets, batch_first=True, padding_value=0)\n",
    "\n",
    "    return encoder_inputs, decoder_targets,input_lengths\n"
   ]
  },
  {
   "cell_type": "code",
   "execution_count": 39,
   "metadata": {
    "execution": {
     "iopub.execute_input": "2025-04-27T09:46:31.532545Z",
     "iopub.status.busy": "2025-04-27T09:46:31.531992Z",
     "iopub.status.idle": "2025-04-27T09:46:31.535880Z",
     "shell.execute_reply": "2025-04-27T09:46:31.535289Z",
     "shell.execute_reply.started": "2025-04-27T09:46:31.532519Z"
    },
    "id": "NtaDlLnUHG-t",
    "trusted": true
   },
   "outputs": [],
   "source": [
    "dataset = MTDataset(corpus, eng_vocab, hin_vocab)"
   ]
  },
  {
   "cell_type": "code",
   "execution_count": null,
   "metadata": {
    "execution": {
     "iopub.execute_input": "2025-04-27T09:46:36.556624Z",
     "iopub.status.busy": "2025-04-27T09:46:36.556134Z",
     "iopub.status.idle": "2025-04-27T09:46:36.584303Z",
     "shell.execute_reply": "2025-04-27T09:46:36.583762Z",
     "shell.execute_reply.started": "2025-04-27T09:46:36.556602Z"
    },
    "id": "Vfg9cYohmGHN",
    "trusted": true
   },
   "outputs": [],
   "source": [
    "seed=42\n",
    "g = torch.Generator()\n",
    "g.manual_seed(seed)\n",
    "train_size = int(0.9 * len(dataset))\n",
    "test_size = len(dataset) - train_size\n",
    "train_dataset, test_dataset = random_split(dataset, [train_size, test_size],generator=g)\n",
    "\n",
    "BATCH_SIZE=128\n",
    "train_loader = DataLoader(train_dataset, batch_size=BATCH_SIZE, shuffle=True, collate_fn=collate_fn,drop_last=True,generator=g)\n",
    "test_loader = DataLoader(test_dataset, batch_size=BATCH_SIZE, shuffle=False, collate_fn=collate_fn ,drop_last=True,generator=g)"
   ]
  },
  {
   "cell_type": "markdown",
   "metadata": {},
   "source": [
    "# Index TO Word "
   ]
  },
  {
   "cell_type": "code",
   "execution_count": 42,
   "metadata": {
    "execution": {
     "iopub.execute_input": "2025-04-27T09:46:39.317239Z",
     "iopub.status.busy": "2025-04-27T09:46:39.317001Z",
     "iopub.status.idle": "2025-04-27T09:46:39.332731Z",
     "shell.execute_reply": "2025-04-27T09:46:39.332064Z",
     "shell.execute_reply.started": "2025-04-27T09:46:39.317224Z"
    },
    "id": "kzkWcUakSFOr",
    "trusted": true
   },
   "outputs": [],
   "source": [
    "# index2word\n",
    "hin_idx2word={v:k for k,v in hin_vocab.items()}\n",
    "eng_idx2word={v:k for k,v in eng_vocab.items()}"
   ]
  },
  {
   "cell_type": "markdown",
   "metadata": {
    "id": "1C-7l58nrZOK"
   },
   "source": [
    "# Model"
   ]
  },
  {
   "cell_type": "code",
   "execution_count": null,
   "metadata": {
    "execution": {
     "iopub.execute_input": "2025-04-27T09:46:42.485347Z",
     "iopub.status.busy": "2025-04-27T09:46:42.485113Z",
     "iopub.status.idle": "2025-04-27T09:46:42.516625Z",
     "shell.execute_reply": "2025-04-27T09:46:42.515903Z",
     "shell.execute_reply.started": "2025-04-27T09:46:42.485332Z"
    },
    "id": "FukYp6ZbnC8u",
    "trusted": true
   },
   "outputs": [],
   "source": [
    "class EncoderRNN(nn.Module):\n",
    "  def __init__(self,eng_vocab_size,hidden_size,embedding_size):\n",
    "    super().__init__()\n",
    "    self.embedding=nn.Embedding(eng_vocab_size,embedding_dim=embedding_size)\n",
    "    self.dropout=nn.Dropout(0.4)\n",
    "    self.lstm = nn.LSTM(embedding_size, hidden_size, batch_first=True, bidirectional=True)\n",
    "    self.reduce=nn.Linear(hidden_size*2,hidden_size)\n",
    "\n",
    "  def forward(self, encoder_inputs,input_lengths):\n",
    "    embedded_input = self.dropout(self.embedding(encoder_inputs))\n",
    "    packed_embedded = pack_padded_sequence(embedded_input, input_lengths, batch_first=True, enforce_sorted=False)\n",
    "    output, (hidden_state,cell_state) = self.lstm(packed_embedded)\n",
    "    output, _ = pad_packed_sequence(output, batch_first=True)\n",
    "    output= self.reduce(output)\n",
    "    hidden_state = torch.cat((hidden_state[0,:,:], hidden_state[1,:,:]), dim=1).unsqueeze(0)\n",
    "    cell_state = torch.cat((cell_state[0,:,:], cell_state[1,:,:]), dim=1).unsqueeze(0)\n",
    "    hidden_state= self.reduce(hidden_state)\n",
    "    cell_state= self.reduce(cell_state)\n",
    "    return output, hidden_state,cell_state\n"
   ]
  },
  {
   "cell_type": "code",
   "execution_count": null,
   "metadata": {
    "execution": {
     "iopub.execute_input": "2025-04-27T09:46:43.618692Z",
     "iopub.status.busy": "2025-04-27T09:46:43.618394Z",
     "iopub.status.idle": "2025-04-27T09:46:43.624697Z",
     "shell.execute_reply": "2025-04-27T09:46:43.624054Z",
     "shell.execute_reply.started": "2025-04-27T09:46:43.618670Z"
    },
    "id": "OzUxzCjYskK0",
    "trusted": true
   },
   "outputs": [],
   "source": [
    "class Attention(nn.Module):\n",
    "  def __init__(self,hidden_size):\n",
    "    super().__init__()\n",
    "    self.l = nn.Linear(hidden_size*2, hidden_size * 2, bias=False)\n",
    "    self.o = nn.Linear(hidden_size * 2, 1, bias=False)\n",
    "\n",
    "\n",
    "  def forward(self,encoder_output,decoder_hidden,mask=None):\n",
    "    decoder_hidden=decoder_hidden.squeeze(0)\n",
    "    decoder_hidden=decoder_hidden.unsqueeze(1).repeat(1,encoder_output.size(1),1)\n",
    "    combined=torch.cat((encoder_output,decoder_hidden),dim=2)\n",
    "    x = torch.tanh(self.l(combined))\n",
    "    attention = self.o(x).squeeze(2)\n",
    "    if mask is not None:\n",
    "        attention = attention.masked_fill(mask == 0, -1e9)\n",
    "    attention_weights = F.softmax(attention, dim=1)\n",
    "    context_vector = torch.bmm(attention_weights.unsqueeze(1), encoder_output).squeeze(1)\n",
    "    return context_vector, attention_weights\n",
    "\n"
   ]
  },
  {
   "cell_type": "code",
   "execution_count": null,
   "metadata": {
    "execution": {
     "iopub.execute_input": "2025-04-27T09:46:45.905201Z",
     "iopub.status.busy": "2025-04-27T09:46:45.904695Z",
     "iopub.status.idle": "2025-04-27T09:46:45.911083Z",
     "shell.execute_reply": "2025-04-27T09:46:45.910418Z",
     "shell.execute_reply.started": "2025-04-27T09:46:45.905178Z"
    },
    "id": "A77IP6o05OD2",
    "trusted": true
   },
   "outputs": [],
   "source": [
    "class AttentionDecoder(nn.Module):\n",
    "  def __init__(self,hin_vocab_size,hidden_size,embedding_size):\n",
    "    super().__init__()\n",
    "    self.attention = Attention(hidden_size)\n",
    "    self.embedding=nn.Embedding(hin_vocab_size,embedding_dim=embedding_size)\n",
    "    self.lstm = nn.LSTM(embedding_size+hidden_size, hidden_size, batch_first=True)\n",
    "    self.dropout = nn.Dropout(0.4)\n",
    "    self.out = nn.Linear(hidden_size, hin_vocab_size)\n",
    "    self.attention_matrix = []\n",
    "  def forward(self,input, encoder_hidden,encoder_cell,encoder_output,mask=None ,store_attention=False):\n",
    "\n",
    "      output = self.dropout(self.embedding(input))\n",
    "      context_vector,attention_weights=self.attention(encoder_output,encoder_hidden,mask=mask)\n",
    "      if store_attention:\n",
    "        self.attention_matrix.append(attention_weights.detach().cpu().numpy())\n",
    "      lstm_input = torch.cat((output, context_vector.unsqueeze(1)), dim=2)\n",
    "      output, (hidden, cell) = self.lstm(lstm_input, (encoder_hidden, encoder_cell))\n",
    "      output = self.out(output)\n",
    "      return output, hidden, cell"
   ]
  },
  {
   "cell_type": "markdown",
   "metadata": {
    "id": "96mamh9VLJvw"
   },
   "source": [
    "# Translation"
   ]
  },
  {
   "cell_type": "code",
   "execution_count": 56,
   "metadata": {
    "execution": {
     "iopub.execute_input": "2025-04-27T10:23:59.469019Z",
     "iopub.status.busy": "2025-04-27T10:23:59.468717Z",
     "iopub.status.idle": "2025-04-27T10:24:00.491021Z",
     "shell.execute_reply": "2025-04-27T10:24:00.490396Z",
     "shell.execute_reply.started": "2025-04-27T10:23:59.468995Z"
    },
    "id": "QWEKN115LE-Z",
    "trusted": true
   },
   "outputs": [],
   "source": [
    "HIDDEN_SIZE=1024\n",
    "EMBEDDING_SIZE=256\n",
    "eng_vocab_size = len(eng_vocab)\n",
    "hin_vocab_size = len(hin_vocab)\n",
    "\n",
    "encoder = EncoderRNN(eng_vocab_size,HIDDEN_SIZE,EMBEDDING_SIZE).to(device)\n",
    "decoder = AttentionDecoder(hin_vocab_size,HIDDEN_SIZE,EMBEDDING_SIZE).to(device)"
   ]
  },
  {
   "cell_type": "code",
   "execution_count": 47,
   "metadata": {
    "execution": {
     "iopub.execute_input": "2025-04-27T09:46:56.308553Z",
     "iopub.status.busy": "2025-04-27T09:46:56.308303Z",
     "iopub.status.idle": "2025-04-27T09:46:56.315628Z",
     "shell.execute_reply": "2025-04-27T09:46:56.314670Z",
     "shell.execute_reply.started": "2025-04-27T09:46:56.308535Z"
    },
    "id": "XzdkNuDJLE69",
    "trusted": true
   },
   "outputs": [],
   "source": [
    "def translate(encoder,decoder,sentence,eng_vocab=eng_vocab,hin_idx2word=hin_idx2word,maxLength=25):\n",
    "  encoder.eval()\n",
    "  decoder.eval()\n",
    "  with torch.inference_mode():\n",
    "    tokenized_sent=text2idx(sentence,\"eng\",eng_vocab)[:-1]\n",
    "    input_tensor= torch.tensor(tokenized_sent,dtype=torch.long)\n",
    "    input_tensor = input_tensor.view(1, -1).to(device)\n",
    "    input_lengths=torch.tensor([len(seq) for seq in input_tensor])\n",
    "    encoder_output , encoder_hidden,encoder_cell=encoder(input_tensor,input_lengths)\n",
    "\n",
    "    decoder_input=torch.tensor([[SOS_TOKEN]]).to(device)\n",
    "    decoder_hidden=encoder_hidden\n",
    "    decoder_cell=encoder_cell\n",
    "    decoded_words=[]\n",
    "    for di in range(maxLength):\n",
    "      logits,decoder_hidden,decoder_cell=decoder(decoder_input,decoder_hidden,decoder_cell,encoder_output,store_attention=True)\n",
    "      logits=logits.reshape(logits.size(0),-1)\n",
    "      next_token=logits.argmax(axis=1)\n",
    "      decoder_input=torch.tensor([[next_token]]).to(device)\n",
    "      if next_token.item()==EOS_TOKEN:\n",
    "        break\n",
    "      else:\n",
    "        decoded_words.append(hin_idx2word[next_token.item()])\n",
    "    return ' '.join(decoded_words)\n"
   ]
  },
  {
   "cell_type": "code",
   "execution_count": null,
   "metadata": {
    "colab": {
     "base_uri": "https://localhost:8080/"
    },
    "execution": {
     "iopub.execute_input": "2025-04-27T15:17:15.076642Z",
     "iopub.status.busy": "2025-04-27T15:17:15.076177Z",
     "iopub.status.idle": "2025-04-27T15:17:15.089812Z",
     "shell.execute_reply": "2025-04-27T15:17:15.089009Z",
     "shell.execute_reply.started": "2025-04-27T15:17:15.076618Z"
    },
    "id": "gWqhwAeFLE4m",
    "outputId": "814cab9f-69dc-4488-f9e9-8f176b4f344a",
    "trusted": true
   },
   "outputs": [
    {
     "name": "stdout",
     "output_type": "stream",
     "text": [
      "Hindi translation:  तुम्हारा नाम क्या है\n"
     ]
    }
   ],
   "source": [
    "sentence=\"what is your name,\".strip()\n",
    "translated_sent=translate(encoder,decoder,sentence,eng_vocab,hin_idx2word)\n",
    "print(\"Hindi translation: \",translated_sent)"
   ]
  },
  {
   "cell_type": "markdown",
   "metadata": {
    "id": "l4bhTfglU2rg"
   },
   "source": [
    "# Training"
   ]
  },
  {
   "cell_type": "code",
   "execution_count": 50,
   "metadata": {
    "colab": {
     "base_uri": "https://localhost:8080/"
    },
    "execution": {
     "iopub.execute_input": "2025-04-27T09:47:05.867250Z",
     "iopub.status.busy": "2025-04-27T09:47:05.866634Z",
     "iopub.status.idle": "2025-04-27T09:47:05.871702Z",
     "shell.execute_reply": "2025-04-27T09:47:05.871148Z",
     "shell.execute_reply.started": "2025-04-27T09:47:05.867225Z"
    },
    "id": "I9rsiObFx7vG",
    "outputId": "4f0f2f44-6841-4327-a5d4-5f05eee59e4c",
    "trusted": true
   },
   "outputs": [
    {
     "data": {
      "text/plain": [
       "(683, 75)"
      ]
     },
     "execution_count": 50,
     "metadata": {},
     "output_type": "execute_result"
    }
   ],
   "source": [
    "len(train_loader),len(test_loader)"
   ]
  },
  {
   "cell_type": "code",
   "execution_count": null,
   "metadata": {
    "execution": {
     "iopub.execute_input": "2025-04-27T09:47:10.196070Z",
     "iopub.status.busy": "2025-04-27T09:47:10.195674Z",
     "iopub.status.idle": "2025-04-27T09:47:10.200224Z",
     "shell.execute_reply": "2025-04-27T09:47:10.199515Z",
     "shell.execute_reply.started": "2025-04-27T09:47:10.196046Z"
    },
    "id": "5TLod88IVJG4",
    "trusted": true
   },
   "outputs": [],
   "source": [
    "def get_teacher_forcing_ratio(epoch, start=1.0, end=0.6):\n",
    "    return max(end, start * (0.95 ** epoch)) \n"
   ]
  },
  {
   "cell_type": "code",
   "execution_count": null,
   "metadata": {
    "execution": {
     "iopub.execute_input": "2025-04-27T10:24:07.409050Z",
     "iopub.status.busy": "2025-04-27T10:24:07.408692Z",
     "iopub.status.idle": "2025-04-27T10:24:07.413941Z",
     "shell.execute_reply": "2025-04-27T10:24:07.413276Z",
     "shell.execute_reply.started": "2025-04-27T10:24:07.409027Z"
    },
    "id": "q43m64Rqf8WZ",
    "trusted": true
   },
   "outputs": [],
   "source": [
    "learning_rate=3e-4\n",
    "loss_fn = nn.CrossEntropyLoss(ignore_index=PAD_TOKEN)\n",
    "encoder_optimizer=optim.AdamW(encoder.parameters(),lr=learning_rate)\n",
    "decoder_optimizer=optim.AdamW(decoder.parameters(),lr=learning_rate*5)"
   ]
  },
  {
   "cell_type": "code",
   "execution_count": null,
   "metadata": {
    "colab": {
     "base_uri": "https://localhost:8080/"
    },
    "execution": {
     "iopub.execute_input": "2025-04-27T13:57:59.614804Z",
     "iopub.status.busy": "2025-04-27T13:57:59.614536Z",
     "iopub.status.idle": "2025-04-27T15:02:19.096752Z",
     "shell.execute_reply": "2025-04-27T15:02:19.095482Z",
     "shell.execute_reply.started": "2025-04-27T13:57:59.614784Z"
    },
    "id": "v0-plixQLE2H",
    "outputId": "979ee681-6020-448c-c223-6bbfe26c4a70",
    "trusted": true
   },
   "outputs": [],
   "source": [
    "\n",
    "epochs=30\n",
    "\n",
    "\n",
    "total_loss=[]\n",
    "for epoch in range(epochs):\n",
    "  encoder.train()\n",
    "  decoder.train()\n",
    "  epoch_loss =0\n",
    "  teacher_forcing_ratio = get_teacher_forcing_ratio(epoch, epochs)\n",
    "  for i,(encoder_input, decoder_target,input_lengths) in enumerate(train_loader):\n",
    "    input_tensor, target_tensor = encoder_input, decoder_target\n",
    "\n",
    "    mask = (input_tensor != PAD_TOKEN).to(device)  \n",
    "    \n",
    "    encoder_optimizer.zero_grad()\n",
    "    decoder_optimizer.zero_grad()\n",
    "\n",
    "    target_length = target_tensor.size(1)\n",
    "\n",
    "    encoder_output, encoder_hidden ,encoder_cell= encoder(input_tensor,input_lengths)\n",
    "\n",
    "    decoder_input = torch.full((BATCH_SIZE, 1),SOS_TOKEN, dtype=torch.long).to(device)\n",
    "    decoder_hidden = encoder_hidden\n",
    "    decoder_cell = encoder_cell\n",
    "\n",
    "\n",
    "    batch_loss = 0\n",
    "    for di in range(target_length):\n",
    "      logits, decoder_hidden,decoder_cell  = decoder(decoder_input, decoder_hidden,decoder_cell,encoder_output,mask=mask)\n",
    "      logits=logits.reshape(logits.size(0),-1)\n",
    "      batch_loss += loss_fn(logits, target_tensor[:,di])\n",
    "\n",
    "      use_teacher_forcing = random.random() < teacher_forcing_ratio \n",
    "      if use_teacher_forcing:\n",
    "          decoder_input = target_tensor[:, di].unsqueeze(1)\n",
    "      else:\n",
    "          top1 = logits.argmax(1).unsqueeze(1)\n",
    "          decoder_input = top1.detach()\n",
    "\n",
    "\n",
    "    batch_loss.backward()\n",
    "    torch.nn.utils.clip_grad_norm_(encoder.parameters(), max_norm=1)\n",
    "    torch.nn.utils.clip_grad_norm_(decoder.parameters(), max_norm=1)\n",
    "    encoder_optimizer.step()\n",
    "    decoder_optimizer.step()\n",
    "    epoch_loss +=batch_loss.item()\n",
    "    if i % 10 == 0:\n",
    "        print(f'Epoch {epoch}, Batch {i}, Loss: {batch_loss.item() / target_length:.4f}')\n",
    "  total_loss.append(epoch_loss /(len(train_loader)))\n",
    "  print(f'--- Epoch {epoch} Completed, Avg Loss: {total_loss[-1]:.4f} ---')\n"
   ]
  },
  {
   "cell_type": "markdown",
   "metadata": {},
   "source": [
    "# Plotting Losses and Saving Model"
   ]
  },
  {
   "cell_type": "code",
   "execution_count": null,
   "metadata": {
    "execution": {
     "iopub.execute_input": "2025-04-27T15:14:48.610868Z",
     "iopub.status.busy": "2025-04-27T15:14:48.610122Z",
     "iopub.status.idle": "2025-04-27T15:14:48.616321Z",
     "shell.execute_reply": "2025-04-27T15:14:48.615743Z",
     "shell.execute_reply.started": "2025-04-27T15:14:48.610841Z"
    },
    "id": "tg6VCxY4QEq8",
    "trusted": true
   },
   "outputs": [],
   "source": [
    "import pandas as pd\n",
    "\n",
    "loss_df = pd.DataFrame({\n",
    "    \"epoch\": list(range(len(total_loss))),\n",
    "    \"loss\": total_loss\n",
    "})\n",
    "loss_df.to_csv(\"root/training_lossM63.csv\", index=False)"
   ]
  },
  {
   "cell_type": "code",
   "execution_count": null,
   "metadata": {
    "colab": {
     "base_uri": "https://localhost:8080/",
     "height": 507
    },
    "execution": {
     "iopub.execute_input": "2025-04-27T15:02:25.022029Z",
     "iopub.status.busy": "2025-04-27T15:02:25.021340Z",
     "iopub.status.idle": "2025-04-27T15:02:25.301545Z",
     "shell.execute_reply": "2025-04-27T15:02:25.300914Z",
     "shell.execute_reply.started": "2025-04-27T15:02:25.022004Z"
    },
    "id": "IutURNYBP9co",
    "outputId": "ba995511-69fd-42b3-ae05-430956b7354b",
    "trusted": true
   },
   "outputs": [],
   "source": [
    "import matplotlib.pyplot as plt\n",
    "\n",
    "plt.figure(figsize=(8, 5))\n",
    "plt.plot(total_loss, marker='o')\n",
    "plt.title(\"Training Loss\")\n",
    "plt.xlabel(\"Epoch\")\n",
    "plt.ylabel(\"Loss\")\n",
    "plt.grid(True)\n",
    "plt.tight_layout()\n",
    "plt.savefig(\"root/training_lossM6.png\")\n",
    "plt.show()"
   ]
  },
  {
   "cell_type": "code",
   "execution_count": null,
   "metadata": {
    "execution": {
     "iopub.execute_input": "2025-04-27T15:02:31.553495Z",
     "iopub.status.busy": "2025-04-27T15:02:31.552706Z",
     "iopub.status.idle": "2025-04-27T15:02:33.927783Z",
     "shell.execute_reply": "2025-04-27T15:02:33.927185Z",
     "shell.execute_reply.started": "2025-04-27T15:02:31.553455Z"
    },
    "id": "MP-ciVtC1Kqj",
    "trusted": true
   },
   "outputs": [],
   "source": [
    "\n",
    "torch.save({\n",
    "    'encoder_state': encoder.state_dict(),\n",
    "    'decoder_state': decoder.state_dict(),\n",
    "    'encoder_optimizer': encoder_optimizer.state_dict(),\n",
    "    'decoder_optimizer': decoder_optimizer.state_dict(),\n",
    "    'loss': total_loss,\n",
    "}, \"checkpoint3.pt\")"
   ]
  },
  {
   "cell_type": "code",
   "execution_count": null,
   "metadata": {
    "colab": {
     "base_uri": "https://localhost:8080/"
    },
    "execution": {
     "execution_failed": "2025-04-26T16:29:08.030Z"
    },
    "id": "scX1FGZjLENN",
    "outputId": "6b40126e-db55-4e8e-944d-b04e8df0d4f1",
    "trusted": true
   },
   "outputs": [],
   "source": [
    "print(\"done\")"
   ]
  },
  {
   "cell_type": "code",
   "execution_count": null,
   "metadata": {
    "execution": {
     "iopub.execute_input": "2025-04-27T15:22:23.937221Z",
     "iopub.status.busy": "2025-04-27T15:22:23.936709Z",
     "iopub.status.idle": "2025-04-27T15:22:23.942055Z",
     "shell.execute_reply": "2025-04-27T15:22:23.941422Z",
     "shell.execute_reply.started": "2025-04-27T15:22:23.937198Z"
    },
    "trusted": true
   },
   "outputs": [
    {
     "data": {
      "text/html": [
       "<a href='checkpoint.pt' target='_blank'>checkpoint.pt</a><br>"
      ],
      "text/plain": [
       "/kaggle/working/checkpoint.pt"
      ]
     },
     "execution_count": 123,
     "metadata": {},
     "output_type": "execute_result"
    }
   ],
   "source": [
    "# from IPython.display import FileLink\n",
    "# (FileLink('checkpoint.pt')) # your model name."
   ]
  },
  {
   "cell_type": "markdown",
   "metadata": {},
   "source": [
    "# Testing Model"
   ]
  },
  {
   "cell_type": "code",
   "execution_count": 73,
   "metadata": {
    "execution": {
     "iopub.execute_input": "2025-04-27T12:49:26.424235Z",
     "iopub.status.busy": "2025-04-27T12:49:26.423736Z",
     "iopub.status.idle": "2025-04-27T12:49:26.428293Z",
     "shell.execute_reply": "2025-04-27T12:49:26.427550Z",
     "shell.execute_reply.started": "2025-04-27T12:49:26.424211Z"
    },
    "id": "oBQHrRrt8E2e",
    "trusted": true
   },
   "outputs": [],
   "source": [
    "def decode_indices(indices, idx2word):\n",
    "    words = []\n",
    "    for idx in indices:\n",
    "        word = idx2word.get(idx, \"<UNK>\")\n",
    "        if word == \"<EOS>\":\n",
    "            break\n",
    "        if word not in [\"<PAD>\", \"<SOS>\"]:\n",
    "            words.append(word.strip())\n",
    "    return words\n"
   ]
  },
  {
   "cell_type": "code",
   "execution_count": null,
   "metadata": {
    "_kg_hide-output": true,
    "colab": {
     "base_uri": "https://localhost:8080/"
    },
    "execution": {
     "iopub.execute_input": "2025-04-27T15:04:26.766876Z",
     "iopub.status.busy": "2025-04-27T15:04:26.766140Z",
     "iopub.status.idle": "2025-04-27T15:06:45.188440Z",
     "shell.execute_reply": "2025-04-27T15:06:45.187805Z",
     "shell.execute_reply.started": "2025-04-27T15:04:26.766831Z"
    },
    "id": "ibQ1_oXMzJke",
    "outputId": "8238efcc-957e-403b-ccff-92d435862161",
    "trusted": true
   },
   "outputs": [
    {
     "name": "stdout",
     "output_type": "stream",
     "text": [
      "Average BLEU score on test set: 10.0045\n"
     ]
    }
   ],
   "source": [
    "from nltk.translate.bleu_score import sentence_bleu, SmoothingFunction\n",
    "\n",
    "smoothie = SmoothingFunction().method4\n",
    "\n",
    "bleu_scores = []\n",
    "\n",
    "with torch.no_grad():\n",
    "    for i,batch in enumerate(test_loader):\n",
    "        input_tensor, target_tensor,input_lengths = batch\n",
    "        for i in range(input_tensor.size(0)):\n",
    "            input=decode_indices(input_tensor[i].tolist(),eng_idx2word)\n",
    "            input=\" \".join(input)\n",
    "            if(input==\"\" or input==\" \"):\n",
    "              continue\n",
    "            predicted_sent = translate(encoder,decoder,sentence=input).split()\n",
    "            target = decode_indices(target_tensor[i].tolist(), hin_idx2word)\n",
    "\n",
    "            if len(predicted_sent) == 0 or len(target) == 0:\n",
    "                continue\n",
    "            # print(\"Predicted: \",\" \".join(predicted_sent))\n",
    "            # print(\"Actual: \",\" \".join(target))\n",
    "            bleu = sentence_bleu([target], predicted_sent, smoothing_function=smoothie)\n",
    "            bleu_scores.append(bleu)\n",
    "        \n",
    "        \n",
    "\n",
    "average_bleu = sum(bleu_scores) / len(bleu_scores)\n",
    "print(f\"Average BLEU score on test set: {average_bleu*100:.4f}\")\n"
   ]
  },
  {
   "cell_type": "code",
   "execution_count": null,
   "metadata": {
    "id": "OpAePJTVGTbe",
    "trusted": true
   },
   "outputs": [],
   "source": []
  },
  {
   "cell_type": "code",
   "execution_count": null,
   "metadata": {
    "id": "7IRIrKqT2x0T",
    "trusted": true
   },
   "outputs": [],
   "source": []
  }
 ],
 "metadata": {
  "accelerator": "GPU",
  "colab": {
   "gpuType": "T4",
   "provenance": []
  },
  "kaggle": {
   "accelerator": "gpu",
   "dataSources": [
    {
     "datasetId": 2502545,
     "sourceId": 4246862,
     "sourceType": "datasetVersion"
    }
   ],
   "dockerImageVersionId": 31011,
   "isGpuEnabled": true,
   "isInternetEnabled": true,
   "language": "python",
   "sourceType": "notebook"
  },
  "kernelspec": {
   "display_name": "Python 3",
   "language": "python",
   "name": "python3"
  },
  "language_info": {
   "codemirror_mode": {
    "name": "ipython",
    "version": 3
   },
   "file_extension": ".py",
   "mimetype": "text/x-python",
   "name": "python",
   "nbconvert_exporter": "python",
   "pygments_lexer": "ipython3",
   "version": "3.11.11"
  }
 },
 "nbformat": 4,
 "nbformat_minor": 4
}
